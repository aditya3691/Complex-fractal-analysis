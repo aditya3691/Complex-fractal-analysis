{
 "cells": [
  {
   "cell_type": "code",
   "execution_count": 47,
   "metadata": {},
   "outputs": [],
   "source": [
    "import pandas as pd \n",
    "import numpy as np\n",
    "import matplotlib.pyplot as plt\n",
    "%matplotlib inline\n",
    "from hurst import compute_Hc\n",
    "from statsmodels.tsa.stattools import adfuller\n",
    "import neurokit"
   ]
  },
  {
   "cell_type": "code",
   "execution_count": 2,
   "metadata": {},
   "outputs": [
    {
     "data": {
      "text/html": [
       "<div>\n",
       "<style scoped>\n",
       "    .dataframe tbody tr th:only-of-type {\n",
       "        vertical-align: middle;\n",
       "    }\n",
       "\n",
       "    .dataframe tbody tr th {\n",
       "        vertical-align: top;\n",
       "    }\n",
       "\n",
       "    .dataframe thead th {\n",
       "        text-align: right;\n",
       "    }\n",
       "</style>\n",
       "<table border=\"1\" class=\"dataframe\">\n",
       "  <thead>\n",
       "    <tr style=\"text-align: right;\">\n",
       "      <th></th>\n",
       "      <th>Time</th>\n",
       "      <th>Signal1</th>\n",
       "      <th>Signal2</th>\n",
       "      <th>Label</th>\n",
       "    </tr>\n",
       "  </thead>\n",
       "  <tbody>\n",
       "    <tr>\n",
       "      <th>0</th>\n",
       "      <td>2017-08-14 11:37:49.791</td>\n",
       "      <td>33668.091913</td>\n",
       "      <td>0.856726</td>\n",
       "      <td>A</td>\n",
       "    </tr>\n",
       "    <tr>\n",
       "      <th>1</th>\n",
       "      <td>2017-08-14 11:37:49.801</td>\n",
       "      <td>32564.903040</td>\n",
       "      <td>0.856705</td>\n",
       "      <td>A</td>\n",
       "    </tr>\n",
       "    <tr>\n",
       "      <th>2</th>\n",
       "      <td>2017-08-14 11:37:49.811</td>\n",
       "      <td>31454.043305</td>\n",
       "      <td>0.856683</td>\n",
       "      <td>A</td>\n",
       "    </tr>\n",
       "    <tr>\n",
       "      <th>3</th>\n",
       "      <td>2017-08-14 11:37:49.821</td>\n",
       "      <td>30335.387166</td>\n",
       "      <td>0.856659</td>\n",
       "      <td>A</td>\n",
       "    </tr>\n",
       "    <tr>\n",
       "      <th>4</th>\n",
       "      <td>2017-08-14 11:37:49.831</td>\n",
       "      <td>29207.142938</td>\n",
       "      <td>0.856634</td>\n",
       "      <td>A</td>\n",
       "    </tr>\n",
       "    <tr>\n",
       "      <th>5</th>\n",
       "      <td>2017-08-14 11:37:49.841</td>\n",
       "      <td>28066.378446</td>\n",
       "      <td>0.856607</td>\n",
       "      <td>A</td>\n",
       "    </tr>\n",
       "    <tr>\n",
       "      <th>6</th>\n",
       "      <td>2017-08-14 11:37:49.851</td>\n",
       "      <td>26910.094146</td>\n",
       "      <td>0.856579</td>\n",
       "      <td>A</td>\n",
       "    </tr>\n",
       "    <tr>\n",
       "      <th>7</th>\n",
       "      <td>2017-08-14 11:37:49.861</td>\n",
       "      <td>25736.387974</td>\n",
       "      <td>0.856550</td>\n",
       "      <td>A</td>\n",
       "    </tr>\n",
       "    <tr>\n",
       "      <th>8</th>\n",
       "      <td>2017-08-14 11:37:49.871</td>\n",
       "      <td>24545.389112</td>\n",
       "      <td>0.856518</td>\n",
       "      <td>A</td>\n",
       "    </tr>\n",
       "    <tr>\n",
       "      <th>9</th>\n",
       "      <td>2017-08-14 11:37:49.881</td>\n",
       "      <td>23339.584544</td>\n",
       "      <td>0.856486</td>\n",
       "      <td>A</td>\n",
       "    </tr>\n",
       "    <tr>\n",
       "      <th>10</th>\n",
       "      <td>2017-08-14 11:37:49.891</td>\n",
       "      <td>22123.209715</td>\n",
       "      <td>0.856452</td>\n",
       "      <td>A</td>\n",
       "    </tr>\n",
       "    <tr>\n",
       "      <th>11</th>\n",
       "      <td>2017-08-14 11:37:49.901</td>\n",
       "      <td>20901.215885</td>\n",
       "      <td>0.856417</td>\n",
       "      <td>A</td>\n",
       "    </tr>\n",
       "    <tr>\n",
       "      <th>12</th>\n",
       "      <td>2017-08-14 11:37:49.911</td>\n",
       "      <td>19678.735808</td>\n",
       "      <td>0.856381</td>\n",
       "      <td>A</td>\n",
       "    </tr>\n",
       "    <tr>\n",
       "      <th>13</th>\n",
       "      <td>2017-08-14 11:37:49.921</td>\n",
       "      <td>18461.234567</td>\n",
       "      <td>0.856344</td>\n",
       "      <td>A</td>\n",
       "    </tr>\n",
       "    <tr>\n",
       "      <th>14</th>\n",
       "      <td>2017-08-14 11:37:49.931</td>\n",
       "      <td>17254.462385</td>\n",
       "      <td>0.856305</td>\n",
       "      <td>A</td>\n",
       "    </tr>\n",
       "    <tr>\n",
       "      <th>15</th>\n",
       "      <td>2017-08-14 11:37:49.941</td>\n",
       "      <td>16063.678579</td>\n",
       "      <td>0.856266</td>\n",
       "      <td>A</td>\n",
       "    </tr>\n",
       "    <tr>\n",
       "      <th>16</th>\n",
       "      <td>2017-08-14 11:37:49.951</td>\n",
       "      <td>14892.933541</td>\n",
       "      <td>0.856226</td>\n",
       "      <td>A</td>\n",
       "    </tr>\n",
       "    <tr>\n",
       "      <th>17</th>\n",
       "      <td>2017-08-14 11:37:49.961</td>\n",
       "      <td>13745.129829</td>\n",
       "      <td>0.856184</td>\n",
       "      <td>A</td>\n",
       "    </tr>\n",
       "    <tr>\n",
       "      <th>18</th>\n",
       "      <td>2017-08-14 11:37:49.971</td>\n",
       "      <td>12622.518802</td>\n",
       "      <td>0.856143</td>\n",
       "      <td>A</td>\n",
       "    </tr>\n",
       "    <tr>\n",
       "      <th>19</th>\n",
       "      <td>2017-08-14 11:37:49.981</td>\n",
       "      <td>11526.848315</td>\n",
       "      <td>0.856100</td>\n",
       "      <td>A</td>\n",
       "    </tr>\n",
       "  </tbody>\n",
       "</table>\n",
       "</div>"
      ],
      "text/plain": [
       "                       Time       Signal1   Signal2 Label\n",
       "0   2017-08-14 11:37:49.791  33668.091913  0.856726     A\n",
       "1   2017-08-14 11:37:49.801  32564.903040  0.856705     A\n",
       "2   2017-08-14 11:37:49.811  31454.043305  0.856683     A\n",
       "3   2017-08-14 11:37:49.821  30335.387166  0.856659     A\n",
       "4   2017-08-14 11:37:49.831  29207.142938  0.856634     A\n",
       "5   2017-08-14 11:37:49.841  28066.378446  0.856607     A\n",
       "6   2017-08-14 11:37:49.851  26910.094146  0.856579     A\n",
       "7   2017-08-14 11:37:49.861  25736.387974  0.856550     A\n",
       "8   2017-08-14 11:37:49.871  24545.389112  0.856518     A\n",
       "9   2017-08-14 11:37:49.881  23339.584544  0.856486     A\n",
       "10  2017-08-14 11:37:49.891  22123.209715  0.856452     A\n",
       "11  2017-08-14 11:37:49.901  20901.215885  0.856417     A\n",
       "12  2017-08-14 11:37:49.911  19678.735808  0.856381     A\n",
       "13  2017-08-14 11:37:49.921  18461.234567  0.856344     A\n",
       "14  2017-08-14 11:37:49.931  17254.462385  0.856305     A\n",
       "15  2017-08-14 11:37:49.941  16063.678579  0.856266     A\n",
       "16  2017-08-14 11:37:49.951  14892.933541  0.856226     A\n",
       "17  2017-08-14 11:37:49.961  13745.129829  0.856184     A\n",
       "18  2017-08-14 11:37:49.971  12622.518802  0.856143     A\n",
       "19  2017-08-14 11:37:49.981  11526.848315  0.856100     A"
      ]
     },
     "execution_count": 2,
     "metadata": {},
     "output_type": "execute_result"
    }
   ],
   "source": [
    "data_tb = pd.read_csv('intern_dataset.csv')\n",
    "data_tb.head(20)"
   ]
  },
  {
   "cell_type": "code",
   "execution_count": 3,
   "metadata": {},
   "outputs": [
    {
     "data": {
      "text/plain": [
       "318000"
      ]
     },
     "execution_count": 3,
     "metadata": {},
     "output_type": "execute_result"
    }
   ],
   "source": [
    "(data_tb['Label'] == 'A').sum()"
   ]
  },
  {
   "cell_type": "code",
   "execution_count": 4,
   "metadata": {},
   "outputs": [
    {
     "data": {
      "text/plain": [
       "(912000, 4)"
      ]
     },
     "execution_count": 4,
     "metadata": {},
     "output_type": "execute_result"
    }
   ],
   "source": [
    "data_tb.shape"
   ]
  },
  {
   "cell_type": "code",
   "execution_count": 5,
   "metadata": {},
   "outputs": [
    {
     "data": {
      "image/png": "[encoded data removed]",
      "text/plain": [
       "<Figure size 432x288 with 1 Axes>"
      ]
     },
     "metadata": {
      "needs_background": "light"
     },
     "output_type": "display_data"
    }
   ],
   "source": [
    "hist_total = plt.hist(data_tb['Label'])"
   ]
  },
  {
   "cell_type": "code",
   "execution_count": 6,
   "metadata": {},
   "outputs": [
    {
     "data": {
      "text/html": [
       "<div>\n",
       "<style scoped>\n",
       "    .dataframe tbody tr th:only-of-type {\n",
       "        vertical-align: middle;\n",
       "    }\n",
       "\n",
       "    .dataframe tbody tr th {\n",
       "        vertical-align: top;\n",
       "    }\n",
       "\n",
       "    .dataframe thead th {\n",
       "        text-align: right;\n",
       "    }\n",
       "</style>\n",
       "<table border=\"1\" class=\"dataframe\">\n",
       "  <thead>\n",
       "    <tr style=\"text-align: right;\">\n",
       "      <th></th>\n",
       "      <th>Signal1</th>\n",
       "      <th>Signal2</th>\n",
       "    </tr>\n",
       "  </thead>\n",
       "  <tbody>\n",
       "    <tr>\n",
       "      <th>count</th>\n",
       "      <td>912000.000000</td>\n",
       "      <td>912000.000000</td>\n",
       "    </tr>\n",
       "    <tr>\n",
       "      <th>mean</th>\n",
       "      <td>31315.380483</td>\n",
       "      <td>0.398004</td>\n",
       "    </tr>\n",
       "    <tr>\n",
       "      <th>std</th>\n",
       "      <td>11700.734813</td>\n",
       "      <td>0.258119</td>\n",
       "    </tr>\n",
       "    <tr>\n",
       "      <th>min</th>\n",
       "      <td>-2934.328327</td>\n",
       "      <td>0.113841</td>\n",
       "    </tr>\n",
       "    <tr>\n",
       "      <th>25%</th>\n",
       "      <td>23851.958837</td>\n",
       "      <td>0.162522</td>\n",
       "    </tr>\n",
       "    <tr>\n",
       "      <th>50%</th>\n",
       "      <td>30650.812455</td>\n",
       "      <td>0.261210</td>\n",
       "    </tr>\n",
       "    <tr>\n",
       "      <th>75%</th>\n",
       "      <td>37933.966586</td>\n",
       "      <td>0.546605</td>\n",
       "    </tr>\n",
       "    <tr>\n",
       "      <th>max</th>\n",
       "      <td>67692.652022</td>\n",
       "      <td>1.356019</td>\n",
       "    </tr>\n",
       "  </tbody>\n",
       "</table>\n",
       "</div>"
      ],
      "text/plain": [
       "             Signal1        Signal2\n",
       "count  912000.000000  912000.000000\n",
       "mean    31315.380483       0.398004\n",
       "std     11700.734813       0.258119\n",
       "min     -2934.328327       0.113841\n",
       "25%     23851.958837       0.162522\n",
       "50%     30650.812455       0.261210\n",
       "75%     37933.966586       0.546605\n",
       "max     67692.652022       1.356019"
      ]
     },
     "execution_count": 6,
     "metadata": {},
     "output_type": "execute_result"
    }
   ],
   "source": [
    "data_tb.describe()"
   ]
  },
  {
   "cell_type": "code",
   "execution_count": 7,
   "metadata": {},
   "outputs": [
    {
     "data": {
      "text/plain": [
       "Time       0\n",
       "Signal1    0\n",
       "Signal2    0\n",
       "Label      0\n",
       "dtype: int64"
      ]
     },
     "execution_count": 7,
     "metadata": {},
     "output_type": "execute_result"
    }
   ],
   "source": [
    "data_tb.isna().sum()"
   ]
  },
  {
   "cell_type": "code",
   "execution_count": 8,
   "metadata": {},
   "outputs": [
    {
     "data": {
      "text/html": [
       "<div>\n",
       "<style scoped>\n",
       "    .dataframe tbody tr th:only-of-type {\n",
       "        vertical-align: middle;\n",
       "    }\n",
       "\n",
       "    .dataframe tbody tr th {\n",
       "        vertical-align: top;\n",
       "    }\n",
       "\n",
       "    .dataframe thead th {\n",
       "        text-align: right;\n",
       "    }\n",
       "</style>\n",
       "<table border=\"1\" class=\"dataframe\">\n",
       "  <thead>\n",
       "    <tr style=\"text-align: right;\">\n",
       "      <th></th>\n",
       "      <th>Time</th>\n",
       "      <th>Signal1</th>\n",
       "      <th>Signal2</th>\n",
       "      <th>Label</th>\n",
       "    </tr>\n",
       "  </thead>\n",
       "  <tbody>\n",
       "    <tr>\n",
       "      <th>0</th>\n",
       "      <td>2017-08-14 11:37:49.791</td>\n",
       "      <td>33668.091913</td>\n",
       "      <td>0.856726</td>\n",
       "      <td>A</td>\n",
       "    </tr>\n",
       "    <tr>\n",
       "      <th>1</th>\n",
       "      <td>2017-08-14 11:37:49.801</td>\n",
       "      <td>32564.903040</td>\n",
       "      <td>0.856705</td>\n",
       "      <td>A</td>\n",
       "    </tr>\n",
       "    <tr>\n",
       "      <th>2</th>\n",
       "      <td>2017-08-14 11:37:49.811</td>\n",
       "      <td>31454.043305</td>\n",
       "      <td>0.856683</td>\n",
       "      <td>A</td>\n",
       "    </tr>\n",
       "    <tr>\n",
       "      <th>3</th>\n",
       "      <td>2017-08-14 11:37:49.821</td>\n",
       "      <td>30335.387166</td>\n",
       "      <td>0.856659</td>\n",
       "      <td>A</td>\n",
       "    </tr>\n",
       "    <tr>\n",
       "      <th>4</th>\n",
       "      <td>2017-08-14 11:37:49.831</td>\n",
       "      <td>29207.142938</td>\n",
       "      <td>0.856634</td>\n",
       "      <td>A</td>\n",
       "    </tr>\n",
       "    <tr>\n",
       "      <th>...</th>\n",
       "      <td>...</td>\n",
       "      <td>...</td>\n",
       "      <td>...</td>\n",
       "      <td>...</td>\n",
       "    </tr>\n",
       "    <tr>\n",
       "      <th>911995</th>\n",
       "      <td>2020-01-04 10:55:49.186</td>\n",
       "      <td>34673.811155</td>\n",
       "      <td>0.151395</td>\n",
       "      <td>C</td>\n",
       "    </tr>\n",
       "    <tr>\n",
       "      <th>911996</th>\n",
       "      <td>2020-01-04 10:55:49.196</td>\n",
       "      <td>34672.951723</td>\n",
       "      <td>0.151385</td>\n",
       "      <td>C</td>\n",
       "    </tr>\n",
       "    <tr>\n",
       "      <th>911997</th>\n",
       "      <td>2020-01-04 10:55:49.206</td>\n",
       "      <td>34671.967555</td>\n",
       "      <td>0.151373</td>\n",
       "      <td>C</td>\n",
       "    </tr>\n",
       "    <tr>\n",
       "      <th>911998</th>\n",
       "      <td>2020-01-04 10:55:49.216</td>\n",
       "      <td>34670.877944</td>\n",
       "      <td>0.151359</td>\n",
       "      <td>C</td>\n",
       "    </tr>\n",
       "    <tr>\n",
       "      <th>911999</th>\n",
       "      <td>2020-01-04 10:55:49.226</td>\n",
       "      <td>34669.694865</td>\n",
       "      <td>0.151342</td>\n",
       "      <td>C</td>\n",
       "    </tr>\n",
       "  </tbody>\n",
       "</table>\n",
       "<p>912000 rows × 4 columns</p>\n",
       "</div>"
      ],
      "text/plain": [
       "                           Time       Signal1   Signal2 Label\n",
       "0       2017-08-14 11:37:49.791  33668.091913  0.856726     A\n",
       "1       2017-08-14 11:37:49.801  32564.903040  0.856705     A\n",
       "2       2017-08-14 11:37:49.811  31454.043305  0.856683     A\n",
       "3       2017-08-14 11:37:49.821  30335.387166  0.856659     A\n",
       "4       2017-08-14 11:37:49.831  29207.142938  0.856634     A\n",
       "...                         ...           ...       ...   ...\n",
       "911995  2020-01-04 10:55:49.186  34673.811155  0.151395     C\n",
       "911996  2020-01-04 10:55:49.196  34672.951723  0.151385     C\n",
       "911997  2020-01-04 10:55:49.206  34671.967555  0.151373     C\n",
       "911998  2020-01-04 10:55:49.216  34670.877944  0.151359     C\n",
       "911999  2020-01-04 10:55:49.226  34669.694865  0.151342     C\n",
       "\n",
       "[912000 rows x 4 columns]"
      ]
     },
     "execution_count": 8,
     "metadata": {},
     "output_type": "execute_result"
    }
   ],
   "source": [
    "data_tb"
   ]
  },
  {
   "cell_type": "code",
   "execution_count": 9,
   "metadata": {
    "scrolled": true
   },
   "outputs": [
    {
     "data": {
      "text/plain": [
       "[<matplotlib.lines.Line2D at 0x2d84243f580>]"
      ]
     },
     "execution_count": 9,
     "metadata": {},
     "output_type": "execute_result"
    },
    {
     "data": {
      "image/png": "[encoded data removed]",
      "text/plain": [
       "<Figure size 432x288 with 1 Axes>"
      ]
     },
     "metadata": {
      "needs_background": "light"
     },
     "output_type": "display_data"
    }
   ],
   "source": [
    "plt.plot(data_tb.Signal2)"
   ]
  },
  {
   "cell_type": "code",
   "execution_count": 10,
   "metadata": {},
   "outputs": [
    {
     "data": {
      "text/plain": [
       "[<matplotlib.lines.Line2D at 0x2d8424a10d0>]"
      ]
     },
     "execution_count": 10,
     "metadata": {},
     "output_type": "execute_result"
    },
    {
     "data": {
      "image/png": "[encoded data removed]",
      "text/plain": [
       "<Figure size 432x288 with 1 Axes>"
      ]
     },
     "metadata": {
      "needs_background": "light"
     },
     "output_type": "display_data"
    }
   ],
   "source": [
    "plt.plot(data_tb.Signal1)"
   ]
  },
  {
   "cell_type": "code",
   "execution_count": 11,
   "metadata": {},
   "outputs": [
    {
     "data": {
      "text/plain": [
       "(array([  9799.,  22992.,  70381., 167478., 253985., 187626., 102661.,\n",
       "         60634.,  21381.,  15063.]),\n",
       " array([-2934.32832683,  4128.36970802, 11191.06774287, 18253.76577772,\n",
       "        25316.46381257, 32379.16184742, 39441.85988227, 46504.55791711,\n",
       "        53567.25595196, 60629.95398681, 67692.65202166]),\n",
       " <a list of 10 Patch objects>)"
      ]
     },
     "execution_count": 11,
     "metadata": {},
     "output_type": "execute_result"
    },
    {
     "data": {
      "image/png": "[encoded data removed]",
      "text/plain": [
       "<Figure size 432x288 with 1 Axes>"
      ]
     },
     "metadata": {
      "needs_background": "light"
     },
     "output_type": "display_data"
    }
   ],
   "source": [
    "plt.hist(data_tb.Signal1)"
   ]
  },
  {
   "cell_type": "code",
   "execution_count": 12,
   "metadata": {},
   "outputs": [
    {
     "data": {
      "text/plain": [
       "(array([282430., 247749.,  68902., 128416.,  51606.,  79875.,  23429.,\n",
       "         18100.,   9280.,   2213.]),\n",
       " array([0.11384072, 0.23805858, 0.36227644, 0.48649429, 0.61071215,\n",
       "        0.73493001, 0.85914787, 0.98336573, 1.10758359, 1.23180144,\n",
       "        1.3560193 ]),\n",
       " <a list of 10 Patch objects>)"
      ]
     },
     "execution_count": 12,
     "metadata": {},
     "output_type": "execute_result"
    },
    {
     "data": {
      "image/png": "[encoded data removed]",
      "text/plain": [
       "<Figure size 432x288 with 1 Axes>"
      ]
     },
     "metadata": {
      "needs_background": "light"
     },
     "output_type": "display_data"
    }
   ],
   "source": [
    "plt.hist(data_tb.Signal2)"
   ]
  },
  {
   "cell_type": "code",
   "execution_count": 13,
   "metadata": {},
   "outputs": [
    {
     "data": {
      "text/plain": [
       "(318000, 4)"
      ]
     },
     "execution_count": 13,
     "metadata": {},
     "output_type": "execute_result"
    }
   ],
   "source": [
    "relation_A = data_tb.loc[(data_tb.Label == 'A')]\n",
    "relation_A.shape"
   ]
  },
  {
   "cell_type": "code",
   "execution_count": 14,
   "metadata": {},
   "outputs": [
    {
     "data": {
      "text/plain": [
       "(312000, 4)"
      ]
     },
     "execution_count": 14,
     "metadata": {},
     "output_type": "execute_result"
    }
   ],
   "source": [
    "relation_B = data_tb.loc[(data_tb.Label == 'B')]\n",
    "relation_B.shape"
   ]
  },
  {
   "cell_type": "code",
   "execution_count": 15,
   "metadata": {},
   "outputs": [
    {
     "data": {
      "text/plain": [
       "(282000, 4)"
      ]
     },
     "execution_count": 15,
     "metadata": {},
     "output_type": "execute_result"
    }
   ],
   "source": [
    "relation_C = data_tb.loc[(data_tb.Label == 'C')]\n",
    "relation_C.shape"
   ]
  },
  {
   "cell_type": "code",
   "execution_count": 16,
   "metadata": {},
   "outputs": [
    {
     "data": {
      "text/plain": [
       "[<matplotlib.lines.Line2D at 0x2d8431f71f0>]"
      ]
     },
     "execution_count": 16,
     "metadata": {},
     "output_type": "execute_result"
    },
    {
     "data": {
      "image/png": "[encoded data removed]",
      "text/plain": [
       "<Figure size 432x288 with 1 Axes>"
      ]
     },
     "metadata": {
      "needs_background": "light"
     },
     "output_type": "display_data"
    }
   ],
   "source": [
    "plt.plot(relation_A['Signal2'],relation_A['Signal1'])"
   ]
  },
  {
   "cell_type": "code",
   "execution_count": 17,
   "metadata": {},
   "outputs": [
    {
     "data": {
      "text/plain": [
       "[<matplotlib.lines.Line2D at 0x2d84324a8e0>]"
      ]
     },
     "execution_count": 17,
     "metadata": {},
     "output_type": "execute_result"
    },
    {
     "data": {
      "image/png": "[encoded data removed]",
      "text/plain": [
       "<Figure size 432x288 with 1 Axes>"
      ]
     },
     "metadata": {
      "needs_background": "light"
     },
     "output_type": "display_data"
    }
   ],
   "source": [
    "plt.plot(relation_B['Signal2'],relation_B['Signal1'])"
   ]
  },
  {
   "cell_type": "code",
   "execution_count": 18,
   "metadata": {},
   "outputs": [
    {
     "data": {
      "text/plain": [
       "[<matplotlib.lines.Line2D at 0x2d8432a1cd0>]"
      ]
     },
     "execution_count": 18,
     "metadata": {},
     "output_type": "execute_result"
    },
    {
     "data": {
      "image/png": "[encoded data removed]",
      "text/plain": [
       "<Figure size 432x288 with 1 Axes>"
      ]
     },
     "metadata": {
      "needs_background": "light"
     },
     "output_type": "display_data"
    }
   ],
   "source": [
    "plt.plot(relation_C['Signal2'],relation_C['Signal1'])"
   ]
  },
  {
   "cell_type": "markdown",
   "metadata": {},
   "source": [
    "# Implementation of Time Series "
   ]
  },
  {
   "cell_type": "code",
   "execution_count": 19,
   "metadata": {},
   "outputs": [
    {
     "data": {
      "text/html": [
       "<div>\n",
       "<style scoped>\n",
       "    .dataframe tbody tr th:only-of-type {\n",
       "        vertical-align: middle;\n",
       "    }\n",
       "\n",
       "    .dataframe tbody tr th {\n",
       "        vertical-align: top;\n",
       "    }\n",
       "\n",
       "    .dataframe thead th {\n",
       "        text-align: right;\n",
       "    }\n",
       "</style>\n",
       "<table border=\"1\" class=\"dataframe\">\n",
       "  <thead>\n",
       "    <tr style=\"text-align: right;\">\n",
       "      <th></th>\n",
       "      <th>Time</th>\n",
       "      <th>Signal1</th>\n",
       "      <th>Signal2</th>\n",
       "      <th>Label</th>\n",
       "    </tr>\n",
       "  </thead>\n",
       "  <tbody>\n",
       "    <tr>\n",
       "      <th>318000</th>\n",
       "      <td>2017-08-12 11:08:25.785</td>\n",
       "      <td>22719.403196</td>\n",
       "      <td>0.123263</td>\n",
       "      <td>C</td>\n",
       "    </tr>\n",
       "    <tr>\n",
       "      <th>318001</th>\n",
       "      <td>2017-08-12 11:08:25.795</td>\n",
       "      <td>23608.265317</td>\n",
       "      <td>0.123268</td>\n",
       "      <td>C</td>\n",
       "    </tr>\n",
       "    <tr>\n",
       "      <th>318002</th>\n",
       "      <td>2017-08-12 11:08:25.805</td>\n",
       "      <td>24524.544926</td>\n",
       "      <td>0.123273</td>\n",
       "      <td>C</td>\n",
       "    </tr>\n",
       "    <tr>\n",
       "      <th>318003</th>\n",
       "      <td>2017-08-12 11:08:25.815</td>\n",
       "      <td>25479.836092</td>\n",
       "      <td>0.123279</td>\n",
       "      <td>C</td>\n",
       "    </tr>\n",
       "    <tr>\n",
       "      <th>318004</th>\n",
       "      <td>2017-08-12 11:08:25.825</td>\n",
       "      <td>26475.848059</td>\n",
       "      <td>0.123285</td>\n",
       "      <td>C</td>\n",
       "    </tr>\n",
       "    <tr>\n",
       "      <th>...</th>\n",
       "      <td>...</td>\n",
       "      <td>...</td>\n",
       "      <td>...</td>\n",
       "      <td>...</td>\n",
       "    </tr>\n",
       "    <tr>\n",
       "      <th>911995</th>\n",
       "      <td>2020-01-04 10:55:49.186</td>\n",
       "      <td>34673.811155</td>\n",
       "      <td>0.151395</td>\n",
       "      <td>C</td>\n",
       "    </tr>\n",
       "    <tr>\n",
       "      <th>911996</th>\n",
       "      <td>2020-01-04 10:55:49.196</td>\n",
       "      <td>34672.951723</td>\n",
       "      <td>0.151385</td>\n",
       "      <td>C</td>\n",
       "    </tr>\n",
       "    <tr>\n",
       "      <th>911997</th>\n",
       "      <td>2020-01-04 10:55:49.206</td>\n",
       "      <td>34671.967555</td>\n",
       "      <td>0.151373</td>\n",
       "      <td>C</td>\n",
       "    </tr>\n",
       "    <tr>\n",
       "      <th>911998</th>\n",
       "      <td>2020-01-04 10:55:49.216</td>\n",
       "      <td>34670.877944</td>\n",
       "      <td>0.151359</td>\n",
       "      <td>C</td>\n",
       "    </tr>\n",
       "    <tr>\n",
       "      <th>911999</th>\n",
       "      <td>2020-01-04 10:55:49.226</td>\n",
       "      <td>34669.694865</td>\n",
       "      <td>0.151342</td>\n",
       "      <td>C</td>\n",
       "    </tr>\n",
       "  </tbody>\n",
       "</table>\n",
       "<p>282000 rows × 4 columns</p>\n",
       "</div>"
      ],
      "text/plain": [
       "                           Time       Signal1   Signal2 Label\n",
       "318000  2017-08-12 11:08:25.785  22719.403196  0.123263     C\n",
       "318001  2017-08-12 11:08:25.795  23608.265317  0.123268     C\n",
       "318002  2017-08-12 11:08:25.805  24524.544926  0.123273     C\n",
       "318003  2017-08-12 11:08:25.815  25479.836092  0.123279     C\n",
       "318004  2017-08-12 11:08:25.825  26475.848059  0.123285     C\n",
       "...                         ...           ...       ...   ...\n",
       "911995  2020-01-04 10:55:49.186  34673.811155  0.151395     C\n",
       "911996  2020-01-04 10:55:49.196  34672.951723  0.151385     C\n",
       "911997  2020-01-04 10:55:49.206  34671.967555  0.151373     C\n",
       "911998  2020-01-04 10:55:49.216  34670.877944  0.151359     C\n",
       "911999  2020-01-04 10:55:49.226  34669.694865  0.151342     C\n",
       "\n",
       "[282000 rows x 4 columns]"
      ]
     },
     "execution_count": 19,
     "metadata": {},
     "output_type": "execute_result"
    }
   ],
   "source": [
    "relation_C"
   ]
  },
  {
   "cell_type": "code",
   "execution_count": 20,
   "metadata": {},
   "outputs": [
    {
     "name": "stderr",
     "output_type": "stream",
     "text": [
      "<ipython-input-20-6ea7a28e3b8e>:1: SettingWithCopyWarning: \n",
      "A value is trying to be set on a copy of a slice from a DataFrame.\n",
      "Try using .loc[row_indexer,col_indexer] = value instead\n",
      "\n",
      "See the caveats in the documentation: https://pandas.pydata.org/pandas-docs/stable/user_guide/indexing.html#returning-a-view-versus-a-copy\n",
      "  relation_A['Time'] = pd.to_datetime(relation_A['Time'])\n",
      "<ipython-input-20-6ea7a28e3b8e>:2: SettingWithCopyWarning: \n",
      "A value is trying to be set on a copy of a slice from a DataFrame.\n",
      "Try using .loc[row_indexer,col_indexer] = value instead\n",
      "\n",
      "See the caveats in the documentation: https://pandas.pydata.org/pandas-docs/stable/user_guide/indexing.html#returning-a-view-versus-a-copy\n",
      "  relation_B['Time'] = pd.to_datetime(relation_B['Time'])\n",
      "<ipython-input-20-6ea7a28e3b8e>:3: SettingWithCopyWarning: \n",
      "A value is trying to be set on a copy of a slice from a DataFrame.\n",
      "Try using .loc[row_indexer,col_indexer] = value instead\n",
      "\n",
      "See the caveats in the documentation: https://pandas.pydata.org/pandas-docs/stable/user_guide/indexing.html#returning-a-view-versus-a-copy\n",
      "  relation_C['Time'] = pd.to_datetime(relation_C['Time'])\n"
     ]
    }
   ],
   "source": [
    "relation_A['Time'] = pd.to_datetime(relation_A['Time'])\n",
    "relation_B['Time'] = pd.to_datetime(relation_B['Time'])\n",
    "relation_C['Time'] = pd.to_datetime(relation_C['Time'])"
   ]
  },
  {
   "cell_type": "code",
   "execution_count": 21,
   "metadata": {},
   "outputs": [],
   "source": [
    "Indexed_A = relation_A.set_index('Time')\n",
    "Indexed_B = relation_B.set_index('Time')\n",
    "Indexed_C = relation_C.set_index('Time')"
   ]
  },
  {
   "cell_type": "code",
   "execution_count": 24,
   "metadata": {},
   "outputs": [
    {
     "data": {
      "text/plain": [
       "array([[<matplotlib.axes._subplots.AxesSubplot object at 0x000002D8433B88E0>,\n",
       "        <matplotlib.axes._subplots.AxesSubplot object at 0x000002D84241F520>]],\n",
       "      dtype=object)"
      ]
     },
     "execution_count": 24,
     "metadata": {},
     "output_type": "execute_result"
    },
    {
     "data": {
      "image/png": "[encoded data removed]",
      "text/plain": [
       "<Figure size 432x288 with 2 Axes>"
      ]
     },
     "metadata": {
      "needs_background": "light"
     },
     "output_type": "display_data"
    }
   ],
   "source": [
    "Indexed_A.hist()"
   ]
  },
  {
   "cell_type": "code",
   "execution_count": 25,
   "metadata": {},
   "outputs": [
    {
     "data": {
      "text/plain": [
       "array([[<matplotlib.axes._subplots.AxesSubplot object at 0x000002D8463A1100>,\n",
       "        <matplotlib.axes._subplots.AxesSubplot object at 0x000002D84655B8B0>]],\n",
       "      dtype=object)"
      ]
     },
     "execution_count": 25,
     "metadata": {},
     "output_type": "execute_result"
    },
    {
     "data": {
      "image/png": "[encoded data removed]",
      "text/plain": [
       "<Figure size 432x288 with 2 Axes>"
      ]
     },
     "metadata": {
      "needs_background": "light"
     },
     "output_type": "display_data"
    }
   ],
   "source": [
    "Indexed_B.hist()"
   ]
  },
  {
   "cell_type": "code",
   "execution_count": 26,
   "metadata": {},
   "outputs": [
    {
     "data": {
      "text/plain": [
       "array([[<matplotlib.axes._subplots.AxesSubplot object at 0x000002D8465F9490>,\n",
       "        <matplotlib.axes._subplots.AxesSubplot object at 0x000002D8466319D0>]],\n",
       "      dtype=object)"
      ]
     },
     "execution_count": 26,
     "metadata": {},
     "output_type": "execute_result"
    },
    {
     "data": {
      "image/png": "[encoded data removed]",
      "text/plain": [
       "<Figure size 432x288 with 2 Axes>"
      ]
     },
     "metadata": {
      "needs_background": "light"
     },
     "output_type": "display_data"
    }
   ],
   "source": [
    "Indexed_C.hist()"
   ]
  },
  {
   "cell_type": "code",
   "execution_count": 27,
   "metadata": {},
   "outputs": [
    {
     "data": {
      "text/html": [
       "<div>\n",
       "<style scoped>\n",
       "    .dataframe tbody tr th:only-of-type {\n",
       "        vertical-align: middle;\n",
       "    }\n",
       "\n",
       "    .dataframe tbody tr th {\n",
       "        vertical-align: top;\n",
       "    }\n",
       "\n",
       "    .dataframe thead th {\n",
       "        text-align: right;\n",
       "    }\n",
       "</style>\n",
       "<table border=\"1\" class=\"dataframe\">\n",
       "  <thead>\n",
       "    <tr style=\"text-align: right;\">\n",
       "      <th></th>\n",
       "      <th>Signal1</th>\n",
       "      <th>Signal2</th>\n",
       "      <th>Label</th>\n",
       "    </tr>\n",
       "    <tr>\n",
       "      <th>Time</th>\n",
       "      <th></th>\n",
       "      <th></th>\n",
       "      <th></th>\n",
       "    </tr>\n",
       "  </thead>\n",
       "  <tbody>\n",
       "    <tr>\n",
       "      <th>2017-08-12 11:08:25.785</th>\n",
       "      <td>22719.403196</td>\n",
       "      <td>0.123263</td>\n",
       "      <td>C</td>\n",
       "    </tr>\n",
       "    <tr>\n",
       "      <th>2017-08-12 11:08:25.795</th>\n",
       "      <td>23608.265317</td>\n",
       "      <td>0.123268</td>\n",
       "      <td>C</td>\n",
       "    </tr>\n",
       "    <tr>\n",
       "      <th>2017-08-12 11:08:25.805</th>\n",
       "      <td>24524.544926</td>\n",
       "      <td>0.123273</td>\n",
       "      <td>C</td>\n",
       "    </tr>\n",
       "    <tr>\n",
       "      <th>2017-08-12 11:08:25.815</th>\n",
       "      <td>25479.836092</td>\n",
       "      <td>0.123279</td>\n",
       "      <td>C</td>\n",
       "    </tr>\n",
       "    <tr>\n",
       "      <th>2017-08-12 11:08:25.825</th>\n",
       "      <td>26475.848059</td>\n",
       "      <td>0.123285</td>\n",
       "      <td>C</td>\n",
       "    </tr>\n",
       "    <tr>\n",
       "      <th>...</th>\n",
       "      <td>...</td>\n",
       "      <td>...</td>\n",
       "      <td>...</td>\n",
       "    </tr>\n",
       "    <tr>\n",
       "      <th>2020-01-04 10:55:49.186</th>\n",
       "      <td>34673.811155</td>\n",
       "      <td>0.151395</td>\n",
       "      <td>C</td>\n",
       "    </tr>\n",
       "    <tr>\n",
       "      <th>2020-01-04 10:55:49.196</th>\n",
       "      <td>34672.951723</td>\n",
       "      <td>0.151385</td>\n",
       "      <td>C</td>\n",
       "    </tr>\n",
       "    <tr>\n",
       "      <th>2020-01-04 10:55:49.206</th>\n",
       "      <td>34671.967555</td>\n",
       "      <td>0.151373</td>\n",
       "      <td>C</td>\n",
       "    </tr>\n",
       "    <tr>\n",
       "      <th>2020-01-04 10:55:49.216</th>\n",
       "      <td>34670.877944</td>\n",
       "      <td>0.151359</td>\n",
       "      <td>C</td>\n",
       "    </tr>\n",
       "    <tr>\n",
       "      <th>2020-01-04 10:55:49.226</th>\n",
       "      <td>34669.694865</td>\n",
       "      <td>0.151342</td>\n",
       "      <td>C</td>\n",
       "    </tr>\n",
       "  </tbody>\n",
       "</table>\n",
       "<p>282000 rows × 3 columns</p>\n",
       "</div>"
      ],
      "text/plain": [
       "                              Signal1   Signal2 Label\n",
       "Time                                                 \n",
       "2017-08-12 11:08:25.785  22719.403196  0.123263     C\n",
       "2017-08-12 11:08:25.795  23608.265317  0.123268     C\n",
       "2017-08-12 11:08:25.805  24524.544926  0.123273     C\n",
       "2017-08-12 11:08:25.815  25479.836092  0.123279     C\n",
       "2017-08-12 11:08:25.825  26475.848059  0.123285     C\n",
       "...                               ...       ...   ...\n",
       "2020-01-04 10:55:49.186  34673.811155  0.151395     C\n",
       "2020-01-04 10:55:49.196  34672.951723  0.151385     C\n",
       "2020-01-04 10:55:49.206  34671.967555  0.151373     C\n",
       "2020-01-04 10:55:49.216  34670.877944  0.151359     C\n",
       "2020-01-04 10:55:49.226  34669.694865  0.151342     C\n",
       "\n",
       "[282000 rows x 3 columns]"
      ]
     },
     "execution_count": 27,
     "metadata": {},
     "output_type": "execute_result"
    }
   ],
   "source": [
    "Indexed_C.sh"
   ]
  },
  {
   "cell_type": "markdown",
   "metadata": {},
   "source": [
    "# Augumented Dickey Fuller Test"
   ]
  },
  {
   "cell_type": "code",
   "execution_count": 29,
   "metadata": {},
   "outputs": [],
   "source": [
    "#H0: It is not stationary   \n",
    "#H1: It is stationary\n",
    "\n",
    "def adfuller_test(Label):   \n",
    "    result = adfuller(Label)   \n",
    "    labels = ['ADF Test Statistic','P-Value','#Lags Used','No. of Observations']   \n",
    "    for value, label in zip(result,labels):   \n",
    "        print(label+' : '+str(value))   \n",
    "    if result[1] <= 0.05:   \n",
    "        print('We will reject the null hypothesis ')   \n",
    "    else:   \n",
    "        print('We accept Null hypothesis ')"
   ]
  },
  {
   "cell_type": "code",
   "execution_count": 30,
   "metadata": {},
   "outputs": [
    {
     "name": "stdout",
     "output_type": "stream",
     "text": [
      "ADF Test Statistic : -31.786633226136356\n",
      "P-Value : 0.0\n",
      "#Lags Used : 91\n",
      "No. of Observations : 317908\n",
      "We will reject the null hypothesis \n"
     ]
    }
   ],
   "source": [
    "adfuller_test(Indexed_A.Signal1)"
   ]
  },
  {
   "cell_type": "code",
   "execution_count": 45,
   "metadata": {},
   "outputs": [
    {
     "name": "stdout",
     "output_type": "stream",
     "text": [
      "ADF Test Statistic : -28.646979330528183\n",
      "P-Value : 0.0\n",
      "#Lags Used : 90\n",
      "No. of Observations : 311909\n",
      "We will reject the null hypothesis \n"
     ]
    }
   ],
   "source": [
    "adfuller_test(Indexed_B.Signal1)"
   ]
  },
  {
   "cell_type": "code",
   "execution_count": 34,
   "metadata": {},
   "outputs": [
    {
     "name": "stdout",
     "output_type": "stream",
     "text": [
      "ADF Test Statistic : -11.792892820554673\n",
      "P-Value : 9.731390897295029e-22\n",
      "#Lags Used : 88\n",
      "No. of Observations : 281911\n",
      "We will reject the null hypothesis \n"
     ]
    }
   ],
   "source": [
    "adfuller_test(Indexed_C.Signal1)"
   ]
  },
  {
   "cell_type": "markdown",
   "metadata": {},
   "source": [
    "Here is the output of the Augmented Dickey-Fuller test for Signal 1 for Labels A,B,C over the period.\n",
    "Considering the p-value which is =<0.05 we can conclude that the data is stationary by rejecting the Null Hypothesis "
   ]
  },
  {
   "cell_type": "code",
   "execution_count": 46,
   "metadata": {},
   "outputs": [
    {
     "name": "stdout",
     "output_type": "stream",
     "text": [
      "ADF Test Statistic : -3.0803195592599537\n",
      "P-Value : 0.028044328323556564\n",
      "#Lags Used : 0\n",
      "No. of Observations : 317999\n",
      "We will reject the null hypothesis \n"
     ]
    }
   ],
   "source": [
    "adfuller_test(Indexed_A.Signal2)"
   ]
  },
  {
   "cell_type": "code",
   "execution_count": 49,
   "metadata": {},
   "outputs": [
    {
     "name": "stdout",
     "output_type": "stream",
     "text": [
      "ADF Test Statistic : -3.069415647690563\n",
      "P-Value : 0.028900929999274082\n",
      "#Lags Used : 83\n",
      "No. of Observations : 311916\n",
      "We will reject the null hypothesis \n"
     ]
    }
   ],
   "source": [
    "adfuller_test(Indexed_B.Signal2)"
   ]
  },
  {
   "cell_type": "code",
   "execution_count": 35,
   "metadata": {},
   "outputs": [
    {
     "name": "stdout",
     "output_type": "stream",
     "text": [
      "ADF Test Statistic : -5.512249152842254\n",
      "P-Value : 1.9602395028152085e-06\n",
      "#Lags Used : 0\n",
      "No. of Observations : 281999\n",
      "We will reject the null hypothesis \n"
     ]
    }
   ],
   "source": [
    "adfuller_test(Indexed_C.Signal2)"
   ]
  },
  {
   "cell_type": "markdown",
   "metadata": {},
   "source": [
    "Here is the output of the Augmented Dickey-Fuller test for Signal 2 for Label A,B,C over the period. Here as well we can see that the values are stationary and rejecting the null hypothesis"
   ]
  },
  {
   "cell_type": "markdown",
   "metadata": {},
   "source": [
    "# Hurst exponent using Rescaled range (R/S) analysis"
   ]
  },
  {
   "cell_type": "code",
   "execution_count": 50,
   "metadata": {},
   "outputs": [
    {
     "data": {
      "text/plain": [
       "(0.25256451078241765, 25.154515370249303)"
      ]
     },
     "execution_count": 50,
     "metadata": {},
     "output_type": "execute_result"
    }
   ],
   "source": [
    "H, c, data = compute_Hc(Indexed_C.Signal1, kind='price', simplified=True)\n",
    "H,c"
   ]
  },
  {
   "cell_type": "markdown",
   "metadata": {},
   "source": [
    "H = 0.5 — Brownian motion,    \n",
    "0.5 < H < 1.0 — persistent behavior,  \n",
    "0 < H < 0.5 — anti-persistent behavior.\n",
    "\n",
    "The Hurst Exponent has a anti-persistant behaviour for C Label in Signal1"
   ]
  },
  {
   "cell_type": "code",
   "execution_count": 48,
   "metadata": {},
   "outputs": [
    {
     "data": {
      "image/png": "[encoded data removed]",
      "text/plain": [
       "<Figure size 432x288 with 1 Axes>"
      ]
     },
     "metadata": {
      "needs_background": "light"
     },
     "output_type": "display_data"
    }
   ],
   "source": [
    "# Plot\n",
    "f, ax = plt.subplots()\n",
    "ax.plot(data[0], c*data[0]**H, color=\"deepskyblue\")\n",
    "ax.scatter(data[0], data[1], color=\"purple\")\n",
    "ax.set_xscale('log')\n",
    "ax.set_yscale('log')\n",
    "ax.set_xlabel('Time interval')\n",
    "ax.set_ylabel('R/S ratio for Signal 1 Label C')\n",
    "ax.grid(True)\n",
    "plt.show()"
   ]
  },
  {
   "cell_type": "code",
   "execution_count": 51,
   "metadata": {},
   "outputs": [
    {
     "data": {
      "text/plain": [
       "(0.39723816567356135, 24.029025156946933)"
      ]
     },
     "execution_count": 51,
     "metadata": {},
     "output_type": "execute_result"
    }
   ],
   "source": [
    "H, c, data = compute_Hc(Indexed_C.Signal2, kind='price', simplified=True)\n",
    "\n",
    "H,c"
   ]
  },
  {
   "cell_type": "markdown",
   "metadata": {},
   "source": [
    "H = 0.5 — Brownian motion,    \n",
    "0.5 < H < 1.0 — persistent behavior,  \n",
    "0 < H < 0.5 — anti-persistent behavior."
   ]
  },
  {
   "cell_type": "code",
   "execution_count": 52,
   "metadata": {},
   "outputs": [
    {
     "data": {
      "image/png": "[encoded data removed]",
      "text/plain": [
       "<Figure size 432x288 with 1 Axes>"
      ]
     },
     "metadata": {
      "needs_background": "light"
     },
     "output_type": "display_data"
    }
   ],
   "source": [
    "# Plot\n",
    "f, ax = plt.subplots()\n",
    "ax.plot(data[0], c*data[0]**H, color=\"deepskyblue\")\n",
    "ax.scatter(data[0], data[1], color=\"purple\")\n",
    "ax.set_xscale('log')\n",
    "ax.set_yscale('log')\n",
    "ax.set_xlabel('Time interval')\n",
    "ax.set_ylabel('R/S ratio for Signal 2 Label C')\n",
    "ax.grid(True)\n",
    "plt.show()"
   ]
  },
  {
   "cell_type": "code",
   "execution_count": 53,
   "metadata": {},
   "outputs": [
    {
     "data": {
      "text/plain": [
       "(0.2631565407513882, 261.98971291132966)"
      ]
     },
     "execution_count": 53,
     "metadata": {},
     "output_type": "execute_result"
    }
   ],
   "source": [
    "H, c, data = compute_Hc(Indexed_B.Signal2, kind='price', simplified=True)\n",
    "\n",
    "H,c"
   ]
  },
  {
   "cell_type": "markdown",
   "metadata": {},
   "source": [
    "H = 0.5 — Brownian motion,   \n",
    "0.5 < H < 1.0 — persistent behavior,   \n",
    "0 < H < 0.5 — anti-persistent behavior.   "
   ]
  },
  {
   "cell_type": "code",
   "execution_count": 54,
   "metadata": {},
   "outputs": [
    {
     "data": {
      "image/png": "[encoded data removed]",
      "text/plain": [
       "<Figure size 432x288 with 1 Axes>"
      ]
     },
     "metadata": {
      "needs_background": "light"
     },
     "output_type": "display_data"
    }
   ],
   "source": [
    "# Plot\n",
    "f, ax = plt.subplots()\n",
    "ax.plot(data[0], c*data[0]**H, color=\"deepskyblue\")\n",
    "ax.scatter(data[0], data[1], color=\"purple\")\n",
    "ax.set_xscale('log')\n",
    "ax.set_yscale('log')\n",
    "ax.set_xlabel('Time interval')\n",
    "ax.set_ylabel('R/S ratio for Signal 2 Label B')\n",
    "ax.grid(True)\n",
    "plt.show()"
   ]
  },
  {
   "cell_type": "code",
   "execution_count": 55,
   "metadata": {},
   "outputs": [
    {
     "data": {
      "text/plain": [
       "(0.3847592361991306, 44.63515534037286)"
      ]
     },
     "execution_count": 55,
     "metadata": {},
     "output_type": "execute_result"
    }
   ],
   "source": [
    "H, c, data = compute_Hc(Indexed_A.Signal2, kind='price', simplified=True)\n",
    "H,c"
   ]
  },
  {
   "cell_type": "markdown",
   "metadata": {},
   "source": [
    "H = 0.5 — Brownian motion,   \n",
    "0.5 < H < 1.0 — persistent behavior,   \n",
    "0 < H < 0.5 — anti-persistent behavior.   "
   ]
  },
  {
   "cell_type": "code",
   "execution_count": 56,
   "metadata": {},
   "outputs": [
    {
     "data": {
      "image/png": "[encoded data removed]",
      "text/plain": [
       "<Figure size 432x288 with 1 Axes>"
      ]
     },
     "metadata": {
      "needs_background": "light"
     },
     "output_type": "display_data"
    }
   ],
   "source": [
    "# Plot\n",
    "f, ax = plt.subplots()\n",
    "ax.plot(data[0], c*data[0]**H, color=\"deepskyblue\")\n",
    "ax.scatter(data[0], data[1], color=\"purple\")\n",
    "ax.set_xscale('log')\n",
    "ax.set_yscale('log')\n",
    "ax.set_xlabel('Time interval')\n",
    "ax.set_ylabel('R/S ratio for Signal 2 Label A')\n",
    "ax.grid(True)\n",
    "plt.show()"
   ]
  },
  {
   "cell_type": "markdown",
   "metadata": {},
   "source": [
    "# Checking the complexity"
   ]
  },
  {
   "cell_type": "code",
   "execution_count": null,
   "metadata": {},
   "outputs": [],
   "source": [
    "#neurokit.complexity(data, sampling_rate=1000, shannon=True, sampen=True, multiscale=True, spectral=True, svd=True, correlation=True, higushi=True, petrosian=True, fisher=True, hurst=True, dfa=True, lyap_r=False, lyap_e=False, emb_dim=2, tolerance='default', k_max=8, bands=None, tau=1)"
   ]
  },
  {
   "cell_type": "markdown",
   "metadata": {},
   "source": [
    "**Fractal dimension**: The term fractal was first introduced by Mandelbrot in 1983. A fractal is a set of points that when looked at smaller scales, resembles the whole set. The concept of fractak dimension (FD) originates from fractal geometry. In traditional geometry, the topological or Euclidean dimension of an object is known as the number of directions each differential of the object occupies in space. This definition of dimension works well for geometrical objects whose level of detail, complexity or space-filling is the same. However, when considering two fractals of the same topological dimension, their level of space-filling is different, and that information is not given by the topological dimension. The FD emerges to provide a measure of how much space an object occupies between Euclidean dimensions. The FD of a waveform represents a powerful tool for transient detection. This feature has been used in the analysis of ECG and EEG to identify and distinguish specific states of physiologic function. Many algorithms are available to determine the FD of the waveform (Acharya, 2005).\n",
    "Correlation: A measure of the fractal (or correlation) dimension of a time series which is also related to complexity. The correlation dimension is a characteristic measure that can be used to describe the geometry of chaotic attractors. It is defined using the correlation sum C(r) which is the fraction of pairs of points X_i in the phase space whose distance is smaller than r.    \n",
    "**Higushi**: Higuchi proposed in 1988 an efficient algorithm for measuring the FD of discrete time sequences. As the reconstruction of the attractor phase space is not necessary, this algorithm is simpler and faster than D2 and other classical measures derived from chaos theory. FD can be used to quantify the complexity and self-similarity of a signal. HFD has already been used to analyse the complexity of brain recordings and other biological signals.     \n",
    "Petrosian Fractal Dimension: Provide a fast computation of the FD of a signal by translating the series into a binary sequence."
   ]
  },
  {
   "cell_type": "code",
   "execution_count": 51,
   "metadata": {},
   "outputs": [
    {
     "name": "stderr",
     "output_type": "stream",
     "text": [
      "C:\\ProgramData\\Anaconda3\\lib\\site-packages\\neurokit\\signal\\complexity.py:502: FutureWarning: `rcond` parameter will change to the default of machine precision times ``max(M, N)`` where M and N are the input matrix dimensions.\n",
      "To use the future default and silence this warning we advise to pass `rcond=None`, to keep using the old, explicitly pass `rcond=-1`.\n",
      "  (p, r1, r2, s)=np.linalg.lstsq(x, L)\n"
     ]
    },
    {
     "data": {
      "text/plain": [
       "{'Fractal_Dimension_Higushi': 1.008170641396176,\n",
       " 'Fractal_Dimension_Petrosian': 1.0007560408840421,\n",
       " 'Hurst': 0.5747595732623282}"
      ]
     },
     "execution_count": 51,
     "metadata": {},
     "output_type": "execute_result"
    }
   ],
   "source": [
    "neurokit.complexity(Indexed_A.Signal1, sampling_rate=100000, shannon=False, sampen=False, multiscale=False, spectral=False, svd=False, correlation=False, higushi=True, petrosian=True, fisher=False, hurst=True, dfa=False, lyap_r=False, lyap_e=False, emb_dim=2, tolerance='default', k_max=8, bands=None, tau=1)"
   ]
  },
  {
   "cell_type": "markdown",
   "metadata": {},
   "source": [
    "The complexity of Label A w.r.t Signal 1 is given below :   \n",
    "'Fractal_Dimension_Higushi': 1.008170641396176   \n",
    "'Fractal_Dimension_Petrosian': 1.0007560408840421   \n",
    "'Hurst': 0.5747595732623282   "
   ]
  },
  {
   "cell_type": "code",
   "execution_count": 52,
   "metadata": {},
   "outputs": [
    {
     "name": "stderr",
     "output_type": "stream",
     "text": [
      "C:\\ProgramData\\Anaconda3\\lib\\site-packages\\neurokit\\signal\\complexity.py:502: FutureWarning: `rcond` parameter will change to the default of machine precision times ``max(M, N)`` where M and N are the input matrix dimensions.\n",
      "To use the future default and silence this warning we advise to pass `rcond=None`, to keep using the old, explicitly pass `rcond=-1`.\n",
      "  (p, r1, r2, s)=np.linalg.lstsq(x, L)\n"
     ]
    },
    {
     "data": {
      "text/plain": [
       "{'Fractal_Dimension_Higushi': 1.0121944743109923,\n",
       " 'Fractal_Dimension_Petrosian': 1.0008522585864967,\n",
       " 'Hurst': 0.6082193903732962}"
      ]
     },
     "execution_count": 52,
     "metadata": {},
     "output_type": "execute_result"
    }
   ],
   "source": [
    "neurokit.complexity(Indexed_B.Signal1, sampling_rate=100000, shannon=False, sampen=False, multiscale=False, spectral=False, svd=False, correlation=False, higushi=True, petrosian=True, fisher=False, hurst=True, dfa=False, lyap_r=False, lyap_e=False, emb_dim=2, tolerance='default', k_max=8, bands=None, tau=1)"
   ]
  },
  {
   "cell_type": "markdown",
   "metadata": {},
   "source": [
    "The complexity of Label B w.r.t Signal 1 is given below :   \n",
    "'Fractal_Dimension_Higushi': 1.0121944743109923    \n",
    "'Fractal_Dimension_Petrosian': 1.0008522585864967   \n",
    "'Hurst': 0.6082193903732962   "
   ]
  },
  {
   "cell_type": "code",
   "execution_count": 31,
   "metadata": {},
   "outputs": [
    {
     "name": "stderr",
     "output_type": "stream",
     "text": [
      "C:\\ProgramData\\Anaconda3\\lib\\site-packages\\neurokit\\signal\\complexity.py:502: FutureWarning: `rcond` parameter will change to the default of machine precision times ``max(M, N)`` where M and N are the input matrix dimensions.\n",
      "To use the future default and silence this warning we advise to pass `rcond=None`, to keep using the old, explicitly pass `rcond=-1`.\n",
      "  (p, r1, r2, s)=np.linalg.lstsq(x, L)\n"
     ]
    },
    {
     "data": {
      "text/plain": [
       "{'Fractal_Dimension_Higushi': 1.0137410381086305,\n",
       " 'Fractal_Dimension_Petrosian': 1.0008960077130644,\n",
       " 'Hurst': 0.8292981622514977}"
      ]
     },
     "execution_count": 31,
     "metadata": {},
     "output_type": "execute_result"
    }
   ],
   "source": [
    "neurokit.complexity(Indexed_C.Signal1, sampling_rate=100000, shannon=False, sampen=False, multiscale=False, spectral=False, svd=False, correlation=False, higushi=True, petrosian=True, fisher=False, hurst=True, dfa=False, lyap_r=False, lyap_e=False, emb_dim=2, tolerance='default', k_max=8, bands=None, tau=1)"
   ]
  },
  {
   "cell_type": "markdown",
   "metadata": {},
   "source": [
    "The values of Higushi Petrosian and Hurst Exponent for Signal1 in Label C is given below :  \n",
    "'Fractal_Dimension_Higushi': 1.0137410381086305   \n",
    "'Fractal_Dimension_Petrosian': 1.0008960077130644   \n",
    "'Hurst': 0.8292981622514977   \n",
    "DFA can be ignored as it works well on Non-Stationary data i.e mean and variance is not constant   "
   ]
  },
  {
   "cell_type": "code",
   "execution_count": 53,
   "metadata": {},
   "outputs": [
    {
     "name": "stderr",
     "output_type": "stream",
     "text": [
      "C:\\ProgramData\\Anaconda3\\lib\\site-packages\\neurokit\\signal\\complexity.py:502: FutureWarning: `rcond` parameter will change to the default of machine precision times ``max(M, N)`` where M and N are the input matrix dimensions.\n",
      "To use the future default and silence this warning we advise to pass `rcond=None`, to keep using the old, explicitly pass `rcond=-1`.\n",
      "  (p, r1, r2, s)=np.linalg.lstsq(x, L)\n"
     ]
    },
    {
     "data": {
      "text/plain": [
       "{'Fractal_Dimension_Higushi': 1.0010244385931724,\n",
       " 'Fractal_Dimension_Petrosian': 1.0004396724685132,\n",
       " 'Hurst': 0.9436455006528913}"
      ]
     },
     "execution_count": 53,
     "metadata": {},
     "output_type": "execute_result"
    }
   ],
   "source": [
    "neurokit.complexity(Indexed_A.Signal2, sampling_rate=100000, shannon=False, sampen=False, multiscale=False, spectral=False, svd=False, correlation=False, higushi=True, petrosian=True, fisher=False, hurst=True, dfa=False, lyap_r=False, lyap_e=False, emb_dim=2, tolerance='default', k_max=8, bands=None, tau=1)"
   ]
  },
  {
   "cell_type": "code",
   "execution_count": 54,
   "metadata": {},
   "outputs": [
    {
     "name": "stderr",
     "output_type": "stream",
     "text": [
      "C:\\ProgramData\\Anaconda3\\lib\\site-packages\\neurokit\\signal\\complexity.py:502: FutureWarning: `rcond` parameter will change to the default of machine precision times ``max(M, N)`` where M and N are the input matrix dimensions.\n",
      "To use the future default and silence this warning we advise to pass `rcond=None`, to keep using the old, explicitly pass `rcond=-1`.\n",
      "  (p, r1, r2, s)=np.linalg.lstsq(x, L)\n"
     ]
    },
    {
     "data": {
      "text/plain": [
       "{'Fractal_Dimension_Higushi': 1.0001446685116777,\n",
       " 'Fractal_Dimension_Petrosian': 1.0001421762681924,\n",
       " 'Hurst': 0.9656017582527003}"
      ]
     },
     "execution_count": 54,
     "metadata": {},
     "output_type": "execute_result"
    }
   ],
   "source": [
    "neurokit.complexity(Indexed_B.Signal2, sampling_rate=100000, shannon=False, sampen=False, multiscale=False, spectral=False, svd=False, correlation=False, higushi=True, petrosian=True, fisher=False, hurst=True, dfa=False, lyap_r=False, lyap_e=False, emb_dim=2, tolerance='default', k_max=8, bands=None, tau=1)"
   ]
  },
  {
   "cell_type": "code",
   "execution_count": 32,
   "metadata": {},
   "outputs": [
    {
     "name": "stderr",
     "output_type": "stream",
     "text": [
      "C:\\ProgramData\\Anaconda3\\lib\\site-packages\\neurokit\\signal\\complexity.py:502: FutureWarning: `rcond` parameter will change to the default of machine precision times ``max(M, N)`` where M and N are the input matrix dimensions.\n",
      "To use the future default and silence this warning we advise to pass `rcond=None`, to keep using the old, explicitly pass `rcond=-1`.\n",
      "  (p, r1, r2, s)=np.linalg.lstsq(x, L)\n"
     ]
    },
    {
     "data": {
      "text/plain": [
       "{'Fractal_Dimension_Higushi': 1.00190364755128,\n",
       " 'Fractal_Dimension_Petrosian': 1.0004835341077232,\n",
       " 'Hurst': 0.8748319171563598}"
      ]
     },
     "execution_count": 32,
     "metadata": {},
     "output_type": "execute_result"
    }
   ],
   "source": [
    "neurokit.complexity(Indexed_C.Signal2, sampling_rate=100000, shannon=False, sampen=False, multiscale=False, spectral=False, svd=False, correlation=False, higushi=True, petrosian=True, fisher=False, hurst=True, dfa=False, lyap_r=False, lyap_e=False, emb_dim=2, tolerance='default', k_max=8, bands=None, tau=1)"
   ]
  },
  {
   "cell_type": "markdown",
   "metadata": {},
   "source": [
    "The values of Higushi Petrosian and Hurst Exponent for Signal2 in Label C is given below :   \n",
    "'Fractal_Dimension_Higushi': 1.00190364755128   \n",
    "'Fractal_Dimension_Petrosian': 1.0004835341077232   \n",
    "'Hurst': 0.8748319171563598   "
   ]
  },
  {
   "cell_type": "markdown",
   "metadata": {},
   "source": [
    "**Thus we can conclude that from the given data by looking at all the complexity parameters and taking the average of each of the parameters in Labels A,B,C   \n",
    "Label C shows more complexity compared to Labels A and B**"
   ]
  }
 ],
 "metadata": {
  "kernelspec": {
   "display_name": "Python 3",
   "language": "python",
   "name": "python3"
  },
  "language_info": {
   "codemirror_mode": {
    "name": "ipython",
    "version": 3
   },
   "file_extension": ".py",
   "mimetype": "text/x-python",
   "name": "python",
   "nbconvert_exporter": "python",
   "pygments_lexer": "ipython3",
   "version": "3.8.3"
  }
 },
 "nbformat": 4,
 "nbformat_minor": 4
}
